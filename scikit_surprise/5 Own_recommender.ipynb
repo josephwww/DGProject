{
 "cells": [
  {
   "cell_type": "code",
   "execution_count": 1,
   "metadata": {},
   "outputs": [
    {
     "name": "stdout",
     "output_type": "stream",
     "text": [
      "Evaluating RMSE, MAE of algorithm MyOwnAlgorithm on 5 split(s).\n",
      "\n",
      "                  Fold 1  Fold 2  Fold 3  Fold 4  Fold 5  Mean    Std     \n",
      "RMSE (testset)    1.2489  1.2424  1.2440  1.2419  1.2435  1.2441  0.0025  \n",
      "MAE (testset)     1.0094  0.9973  1.0003  0.9997  1.0016  1.0017  0.0041  \n",
      "Fit time          0.00    0.03    0.03    0.03    0.03    0.02    0.01    \n",
      "Test time         0.09    0.04    0.08    0.08    0.09    0.08    0.02    \n"
     ]
    },
    {
     "data": {
      "text/plain": [
       "{'test_rmse': array([1.2488795 , 1.24239688, 1.24396543, 1.24191385, 1.24352322]),\n",
       " 'test_mae': array([1.0094 , 0.99735, 1.00025, 0.99965, 1.00165]),\n",
       " 'fit_time': (4.5299530029296875e-06,\n",
       "  0.029980182647705078,\n",
       "  0.029226064682006836,\n",
       "  0.030679702758789062,\n",
       "  0.03043198585510254),\n",
       " 'test_time': (0.08792734146118164,\n",
       "  0.04089164733886719,\n",
       "  0.08311176300048828,\n",
       "  0.08380794525146484,\n",
       "  0.08590292930603027)}"
      ]
     },
     "execution_count": 1,
     "metadata": {},
     "output_type": "execute_result"
    }
   ],
   "source": [
    "from surprise import AlgoBase\n",
    "from surprise import Dataset\n",
    "from surprise.model_selection import cross_validate\n",
    "\n",
    "\n",
    "class MyOwnAlgorithm(AlgoBase):\n",
    "\n",
    "    def __init__(self):\n",
    "\n",
    "        # Always call base method before doing anything.\n",
    "        AlgoBase.__init__(self)\n",
    "\n",
    "    def estimate(self, u, i):\n",
    "\n",
    "        return 3\n",
    "\n",
    "\n",
    "data = Dataset.load_builtin('ml-100k')\n",
    "algo = MyOwnAlgorithm()\n",
    "\n",
    "cross_validate(algo, data, verbose=True)"
   ]
  }
 ],
 "metadata": {
  "kernelspec": {
   "display_name": "Python 3",
   "language": "python",
   "name": "python3"
  },
  "language_info": {
   "codemirror_mode": {
    "name": "ipython",
    "version": 3
   },
   "file_extension": ".py",
   "mimetype": "text/x-python",
   "name": "python",
   "nbconvert_exporter": "python",
   "pygments_lexer": "ipython3",
   "version": "3.6.9"
  }
 },
 "nbformat": 4,
 "nbformat_minor": 4
}
